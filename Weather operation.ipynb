{
 "cells": [
  {
   "cell_type": "code",
   "execution_count": 58,
   "id": "f63c0940-65d4-4847-bd23-5c129203a53e",
   "metadata": {},
   "outputs": [],
   "source": [
    "from tensorflow.keras.layers import Dense"
   ]
  },
  {
   "cell_type": "code",
   "execution_count": 62,
   "id": "6ae6faed-32d9-42d5-951a-50aaf9baec73",
   "metadata": {},
   "outputs": [],
   "source": [
    "import numpy as np\n",
    "import pandas as pd\n",
    "import matplotlib.pyplot as plt\n",
    "\n",
    "from sklearn.model_selection import train_test_split\n",
    "from sklearn.preprocessing import StandardScaler\n",
    "\n",
    "from tensorflow.keras.models import Sequential\n",
    "from tensorflow.keras.layers import Dense"
   ]
  },
  {
   "cell_type": "code",
   "execution_count": 64,
   "id": "6f4fb723-12bc-40b1-80bc-8c7271318f65",
   "metadata": {},
   "outputs": [
    {
     "data": {
      "text/html": [
       "<div>\n",
       "<style scoped>\n",
       "    .dataframe tbody tr th:only-of-type {\n",
       "        vertical-align: middle;\n",
       "    }\n",
       "\n",
       "    .dataframe tbody tr th {\n",
       "        vertical-align: top;\n",
       "    }\n",
       "\n",
       "    .dataframe thead th {\n",
       "        text-align: right;\n",
       "    }\n",
       "</style>\n",
       "<table border=\"1\" class=\"dataframe\">\n",
       "  <thead>\n",
       "    <tr style=\"text-align: right;\">\n",
       "      <th></th>\n",
       "      <th>temperature</th>\n",
       "      <th>humidity</th>\n",
       "      <th>wind_speed</th>\n",
       "      <th>solar_irradiance</th>\n",
       "      <th>energy_consumption</th>\n",
       "    </tr>\n",
       "  </thead>\n",
       "  <tbody>\n",
       "    <tr>\n",
       "      <th>0</th>\n",
       "      <td>24.363503</td>\n",
       "      <td>31.107976</td>\n",
       "      <td>5.234114</td>\n",
       "      <td>705.432695</td>\n",
       "      <td>307.398145</td>\n",
       "    </tr>\n",
       "    <tr>\n",
       "      <th>1</th>\n",
       "      <td>38.767858</td>\n",
       "      <td>52.514057</td>\n",
       "      <td>4.939576</td>\n",
       "      <td>817.013257</td>\n",
       "      <td>412.444548</td>\n",
       "    </tr>\n",
       "    <tr>\n",
       "      <th>2</th>\n",
       "      <td>33.299849</td>\n",
       "      <td>72.376750</td>\n",
       "      <td>18.125092</td>\n",
       "      <td>325.421109</td>\n",
       "      <td>392.072418</td>\n",
       "    </tr>\n",
       "    <tr>\n",
       "      <th>3</th>\n",
       "      <td>29.966462</td>\n",
       "      <td>63.933493</td>\n",
       "      <td>4.990924</td>\n",
       "      <td>662.386690</td>\n",
       "      <td>119.254957</td>\n",
       "    </tr>\n",
       "    <tr>\n",
       "      <th>4</th>\n",
       "      <td>18.900466</td>\n",
       "      <td>68.393669</td>\n",
       "      <td>5.438995</td>\n",
       "      <td>614.571385</td>\n",
       "      <td>117.162261</td>\n",
       "    </tr>\n",
       "  </tbody>\n",
       "</table>\n",
       "</div>"
      ],
      "text/plain": [
       "   temperature   humidity  wind_speed  solar_irradiance  energy_consumption\n",
       "0    24.363503  31.107976    5.234114        705.432695          307.398145\n",
       "1    38.767858  52.514057    4.939576        817.013257          412.444548\n",
       "2    33.299849  72.376750   18.125092        325.421109          392.072418\n",
       "3    29.966462  63.933493    4.990924        662.386690          119.254957\n",
       "4    18.900466  68.393669    5.438995        614.571385          117.162261"
      ]
     },
     "execution_count": 64,
     "metadata": {},
     "output_type": "execute_result"
    }
   ],
   "source": [
    "data = pd.read_csv('ec_data.csv')\n",
    "\n",
    "data.head()"
   ]
  },
  {
   "cell_type": "code",
   "execution_count": 66,
   "id": "1ee69f48-bbdc-45ee-be32-99cce59b1359",
   "metadata": {},
   "outputs": [
    {
     "data": {
      "text/plain": [
       "temperature           0\n",
       "humidity              0\n",
       "wind_speed            0\n",
       "solar_irradiance      0\n",
       "energy_consumption    0\n",
       "dtype: int64"
      ]
     },
     "execution_count": 66,
     "metadata": {},
     "output_type": "execute_result"
    }
   ],
   "source": [
    "data.isnull().sum()"
   ]
  },
  {
   "cell_type": "code",
   "execution_count": 68,
   "id": "14df4f0c-e252-4af8-b814-361400ecd592",
   "metadata": {},
   "outputs": [],
   "source": [
    "X= data[['temperature', 'humidity', 'wind_speed','solar_irradiance']].values\n",
    "y= data['energy_consumption'].values"
   ]
  },
  {
   "cell_type": "code",
   "execution_count": 70,
   "id": "03d418f0-e7b5-4b9b-9069-c2aed39221a0",
   "metadata": {},
   "outputs": [],
   "source": [
    "X_train, X_test, y_train, y_test= train_test_split(X, y, test_size=0.2, random_state=42)"
   ]
  },
  {
   "cell_type": "code",
   "execution_count": 72,
   "id": "72a6690e-038d-4b52-b8f4-2d0d93d295b5",
   "metadata": {},
   "outputs": [],
   "source": [
    "scaler= StandardScaler()\n",
    "X_train = scaler.fit_transform(X_train)\n",
    "X_test = scaler.transform(X_test)"
   ]
  },
  {
   "cell_type": "code",
   "execution_count": 74,
   "id": "11c94fb8-35f8-4885-b0cd-1d826943fd8a",
   "metadata": {},
   "outputs": [
    {
     "name": "stderr",
     "output_type": "stream",
     "text": [
      "/opt/anaconda3/lib/python3.12/site-packages/keras/src/layers/core/dense.py:87: UserWarning: Do not pass an `input_shape`/`input_dim` argument to a layer. When using Sequential models, prefer using an `Input(shape)` object as the first layer in the model instead.\n",
      "  super().__init__(activity_regularizer=activity_regularizer, **kwargs)\n"
     ]
    }
   ],
   "source": [
    "model = Sequential([\n",
    "    Dense(64, activation='relu', input_shape=(X_train.shape[1],)),  # Input layer with 64 neurons\n",
    "    Dense(32, activation='relu'),  # Hidden layer with 32 neurons\n",
    "    Dense(1)  # Output layer for regression (1 neuron)\n",
    "])"
   ]
  },
  {
   "cell_type": "code",
   "execution_count": 84,
   "id": "a1f5a053-8891-4c78-a131-5582795f9174",
   "metadata": {},
   "outputs": [],
   "source": [
    "model.compile(optimizer='adam', loss='mse', metrics=['mae'])"
   ]
  },
  {
   "cell_type": "code",
   "execution_count": 86,
   "id": "430d26c4-d047-4532-ac78-e52c478ef73c",
   "metadata": {},
   "outputs": [
    {
     "name": "stdout",
     "output_type": "stream",
     "text": [
      "Epoch 1/50\n",
      "\u001b[1m20/20\u001b[0m \u001b[32m━━━━━━━━━━━━━━━━━━━━\u001b[0m\u001b[37m\u001b[0m \u001b[1m1s\u001b[0m 4ms/step - loss: 88765.3125 - mae: 268.3543 - val_loss: 83453.8281 - val_mae: 258.5488\n",
      "Epoch 2/50\n",
      "\u001b[1m20/20\u001b[0m \u001b[32m━━━━━━━━━━━━━━━━━━━━\u001b[0m\u001b[37m\u001b[0m \u001b[1m0s\u001b[0m 2ms/step - loss: 86296.1484 - mae: 264.6171 - val_loss: 82695.1172 - val_mae: 257.0794\n",
      "Epoch 3/50\n",
      "\u001b[1m20/20\u001b[0m \u001b[32m━━━━━━━━━━━━━━━━━━━━\u001b[0m\u001b[37m\u001b[0m \u001b[1m0s\u001b[0m 2ms/step - loss: 88746.1641 - mae: 269.4538 - val_loss: 81517.3906 - val_mae: 254.7818\n",
      "Epoch 4/50\n",
      "\u001b[1m20/20\u001b[0m \u001b[32m━━━━━━━━━━━━━━━━━━━━\u001b[0m\u001b[37m\u001b[0m \u001b[1m0s\u001b[0m 2ms/step - loss: 82967.4375 - mae: 257.1230 - val_loss: 79744.3125 - val_mae: 251.2757\n",
      "Epoch 5/50\n",
      "\u001b[1m20/20\u001b[0m \u001b[32m━━━━━━━━━━━━━━━━━━━━\u001b[0m\u001b[37m\u001b[0m \u001b[1m0s\u001b[0m 2ms/step - loss: 82395.7812 - mae: 256.2311 - val_loss: 77165.5156 - val_mae: 246.0817\n",
      "Epoch 6/50\n",
      "\u001b[1m20/20\u001b[0m \u001b[32m━━━━━━━━━━━━━━━━━━━━\u001b[0m\u001b[37m\u001b[0m \u001b[1m0s\u001b[0m 2ms/step - loss: 79918.3828 - mae: 252.9945 - val_loss: 73597.1484 - val_mae: 238.6921\n",
      "Epoch 7/50\n",
      "\u001b[1m20/20\u001b[0m \u001b[32m━━━━━━━━━━━━━━━━━━━━\u001b[0m\u001b[37m\u001b[0m \u001b[1m0s\u001b[0m 2ms/step - loss: 79273.6875 - mae: 248.3064 - val_loss: 68925.8906 - val_mae: 228.6376\n",
      "Epoch 8/50\n",
      "\u001b[1m20/20\u001b[0m \u001b[32m━━━━━━━━━━━━━━━━━━━━\u001b[0m\u001b[37m\u001b[0m \u001b[1m0s\u001b[0m 2ms/step - loss: 71474.2969 - mae: 235.1991 - val_loss: 63148.4141 - val_mae: 215.6659\n",
      "Epoch 9/50\n",
      "\u001b[1m20/20\u001b[0m \u001b[32m━━━━━━━━━━━━━━━━━━━━\u001b[0m\u001b[37m\u001b[0m \u001b[1m0s\u001b[0m 2ms/step - loss: 68557.5781 - mae: 227.9069 - val_loss: 56386.2812 - val_mae: 199.9793\n",
      "Epoch 10/50\n",
      "\u001b[1m20/20\u001b[0m \u001b[32m━━━━━━━━━━━━━━━━━━━━\u001b[0m\u001b[37m\u001b[0m \u001b[1m0s\u001b[0m 2ms/step - loss: 62712.4297 - mae: 214.0315 - val_loss: 48935.2109 - val_mae: 182.4050\n",
      "Epoch 11/50\n",
      "\u001b[1m20/20\u001b[0m \u001b[32m━━━━━━━━━━━━━━━━━━━━\u001b[0m\u001b[37m\u001b[0m \u001b[1m0s\u001b[0m 2ms/step - loss: 50340.5977 - mae: 185.9861 - val_loss: 41524.2969 - val_mae: 164.8349\n",
      "Epoch 12/50\n",
      "\u001b[1m20/20\u001b[0m \u001b[32m━━━━━━━━━━━━━━━━━━━━\u001b[0m\u001b[37m\u001b[0m \u001b[1m0s\u001b[0m 2ms/step - loss: 43232.4102 - mae: 170.0282 - val_loss: 34502.2305 - val_mae: 148.3449\n",
      "Epoch 13/50\n",
      "\u001b[1m20/20\u001b[0m \u001b[32m━━━━━━━━━━━━━━━━━━━━\u001b[0m\u001b[37m\u001b[0m \u001b[1m0s\u001b[0m 2ms/step - loss: 34080.9883 - mae: 148.4588 - val_loss: 28549.4805 - val_mae: 133.3570\n",
      "Epoch 14/50\n",
      "\u001b[1m20/20\u001b[0m \u001b[32m━━━━━━━━━━━━━━━━━━━━\u001b[0m\u001b[37m\u001b[0m \u001b[1m0s\u001b[0m 2ms/step - loss: 28452.7402 - mae: 134.8709 - val_loss: 24070.3652 - val_mae: 123.9323\n",
      "Epoch 15/50\n",
      "\u001b[1m20/20\u001b[0m \u001b[32m━━━━━━━━━━━━━━━━━━━━\u001b[0m\u001b[37m\u001b[0m \u001b[1m0s\u001b[0m 2ms/step - loss: 25938.4082 - mae: 133.1627 - val_loss: 21103.2734 - val_mae: 118.8776\n",
      "Epoch 16/50\n",
      "\u001b[1m20/20\u001b[0m \u001b[32m━━━━━━━━━━━━━━━━━━━━\u001b[0m\u001b[37m\u001b[0m \u001b[1m0s\u001b[0m 2ms/step - loss: 21065.2754 - mae: 121.7293 - val_loss: 19501.4492 - val_mae: 116.6038\n",
      "Epoch 17/50\n",
      "\u001b[1m20/20\u001b[0m \u001b[32m━━━━━━━━━━━━━━━━━━━━\u001b[0m\u001b[37m\u001b[0m \u001b[1m0s\u001b[0m 2ms/step - loss: 18753.2070 - mae: 116.1230 - val_loss: 18700.8086 - val_mae: 115.6780\n",
      "Epoch 18/50\n",
      "\u001b[1m20/20\u001b[0m \u001b[32m━━━━━━━━━━━━━━━━━━━━\u001b[0m\u001b[37m\u001b[0m \u001b[1m0s\u001b[0m 2ms/step - loss: 18286.8809 - mae: 116.9310 - val_loss: 18474.0508 - val_mae: 115.4875\n",
      "Epoch 19/50\n",
      "\u001b[1m20/20\u001b[0m \u001b[32m━━━━━━━━━━━━━━━━━━━━\u001b[0m\u001b[37m\u001b[0m \u001b[1m0s\u001b[0m 2ms/step - loss: 18311.1562 - mae: 117.0042 - val_loss: 18406.8418 - val_mae: 115.7507\n",
      "Epoch 20/50\n",
      "\u001b[1m20/20\u001b[0m \u001b[32m━━━━━━━━━━━━━━━━━━━━\u001b[0m\u001b[37m\u001b[0m \u001b[1m0s\u001b[0m 2ms/step - loss: 17987.3320 - mae: 116.9447 - val_loss: 18416.0371 - val_mae: 116.1082\n",
      "Epoch 21/50\n",
      "\u001b[1m20/20\u001b[0m \u001b[32m━━━━━━━━━━━━━━━━━━━━\u001b[0m\u001b[37m\u001b[0m \u001b[1m0s\u001b[0m 2ms/step - loss: 17134.9062 - mae: 113.2220 - val_loss: 18441.5410 - val_mae: 116.3657\n",
      "Epoch 22/50\n",
      "\u001b[1m20/20\u001b[0m \u001b[32m━━━━━━━━━━━━━━━━━━━━\u001b[0m\u001b[37m\u001b[0m \u001b[1m0s\u001b[0m 2ms/step - loss: 16688.8066 - mae: 112.8851 - val_loss: 18425.5527 - val_mae: 116.3278\n",
      "Epoch 23/50\n",
      "\u001b[1m20/20\u001b[0m \u001b[32m━━━━━━━━━━━━━━━━━━━━\u001b[0m\u001b[37m\u001b[0m \u001b[1m0s\u001b[0m 2ms/step - loss: 18325.5352 - mae: 118.4271 - val_loss: 18428.0469 - val_mae: 116.4250\n",
      "Epoch 24/50\n",
      "\u001b[1m20/20\u001b[0m \u001b[32m━━━━━━━━━━━━━━━━━━━━\u001b[0m\u001b[37m\u001b[0m \u001b[1m0s\u001b[0m 2ms/step - loss: 17117.0938 - mae: 113.8042 - val_loss: 18411.7559 - val_mae: 116.4151\n",
      "Epoch 25/50\n",
      "\u001b[1m20/20\u001b[0m \u001b[32m━━━━━━━━━━━━━━━━━━━━\u001b[0m\u001b[37m\u001b[0m \u001b[1m0s\u001b[0m 2ms/step - loss: 17575.8223 - mae: 113.7696 - val_loss: 18426.8398 - val_mae: 116.5177\n",
      "Epoch 26/50\n",
      "\u001b[1m20/20\u001b[0m \u001b[32m━━━━━━━━━━━━━━━━━━━━\u001b[0m\u001b[37m\u001b[0m \u001b[1m0s\u001b[0m 2ms/step - loss: 17850.4688 - mae: 116.8133 - val_loss: 18401.5469 - val_mae: 116.4661\n",
      "Epoch 27/50\n",
      "\u001b[1m20/20\u001b[0m \u001b[32m━━━━━━━━━━━━━━━━━━━━\u001b[0m\u001b[37m\u001b[0m \u001b[1m0s\u001b[0m 2ms/step - loss: 18090.4023 - mae: 116.4628 - val_loss: 18412.3633 - val_mae: 116.4746\n",
      "Epoch 28/50\n",
      "\u001b[1m20/20\u001b[0m \u001b[32m━━━━━━━━━━━━━━━━━━━━\u001b[0m\u001b[37m\u001b[0m \u001b[1m0s\u001b[0m 2ms/step - loss: 16898.3398 - mae: 111.6254 - val_loss: 18432.2559 - val_mae: 116.5092\n",
      "Epoch 29/50\n",
      "\u001b[1m20/20\u001b[0m \u001b[32m━━━━━━━━━━━━━━━━━━━━\u001b[0m\u001b[37m\u001b[0m \u001b[1m0s\u001b[0m 2ms/step - loss: 17484.9258 - mae: 114.7491 - val_loss: 18420.7227 - val_mae: 116.5342\n",
      "Epoch 30/50\n",
      "\u001b[1m20/20\u001b[0m \u001b[32m━━━━━━━━━━━━━━━━━━━━\u001b[0m\u001b[37m\u001b[0m \u001b[1m0s\u001b[0m 2ms/step - loss: 17859.1777 - mae: 116.6861 - val_loss: 18454.5527 - val_mae: 116.7111\n",
      "Epoch 31/50\n",
      "\u001b[1m20/20\u001b[0m \u001b[32m━━━━━━━━━━━━━━━━━━━━\u001b[0m\u001b[37m\u001b[0m \u001b[1m0s\u001b[0m 2ms/step - loss: 15928.0176 - mae: 108.3567 - val_loss: 18413.3281 - val_mae: 116.5364\n",
      "Epoch 32/50\n",
      "\u001b[1m20/20\u001b[0m \u001b[32m━━━━━━━━━━━━━━━━━━━━\u001b[0m\u001b[37m\u001b[0m \u001b[1m0s\u001b[0m 2ms/step - loss: 17237.9922 - mae: 114.1485 - val_loss: 18383.8555 - val_mae: 116.4458\n",
      "Epoch 33/50\n",
      "\u001b[1m20/20\u001b[0m \u001b[32m━━━━━━━━━━━━━━━━━━━━\u001b[0m\u001b[37m\u001b[0m \u001b[1m0s\u001b[0m 2ms/step - loss: 16693.3008 - mae: 111.8865 - val_loss: 18391.5273 - val_mae: 116.5095\n",
      "Epoch 34/50\n",
      "\u001b[1m20/20\u001b[0m \u001b[32m━━━━━━━━━━━━━━━━━━━━\u001b[0m\u001b[37m\u001b[0m \u001b[1m0s\u001b[0m 2ms/step - loss: 16994.4961 - mae: 112.7343 - val_loss: 18380.9102 - val_mae: 116.4637\n",
      "Epoch 35/50\n",
      "\u001b[1m20/20\u001b[0m \u001b[32m━━━━━━━━━━━━━━━━━━━━\u001b[0m\u001b[37m\u001b[0m \u001b[1m0s\u001b[0m 2ms/step - loss: 17751.1289 - mae: 115.8091 - val_loss: 18383.3594 - val_mae: 116.4631\n",
      "Epoch 36/50\n",
      "\u001b[1m20/20\u001b[0m \u001b[32m━━━━━━━━━━━━━━━━━━━━\u001b[0m\u001b[37m\u001b[0m \u001b[1m0s\u001b[0m 2ms/step - loss: 16186.8477 - mae: 110.1428 - val_loss: 18382.8184 - val_mae: 116.4998\n",
      "Epoch 37/50\n",
      "\u001b[1m20/20\u001b[0m \u001b[32m━━━━━━━━━━━━━━━━━━━━\u001b[0m\u001b[37m\u001b[0m \u001b[1m0s\u001b[0m 2ms/step - loss: 16417.4980 - mae: 111.0894 - val_loss: 18363.7129 - val_mae: 116.4617\n",
      "Epoch 38/50\n",
      "\u001b[1m20/20\u001b[0m \u001b[32m━━━━━━━━━━━━━━━━━━━━\u001b[0m\u001b[37m\u001b[0m \u001b[1m0s\u001b[0m 2ms/step - loss: 17709.8906 - mae: 115.0793 - val_loss: 18406.0273 - val_mae: 116.5639\n",
      "Epoch 39/50\n",
      "\u001b[1m20/20\u001b[0m \u001b[32m━━━━━━━━━━━━━━━━━━━━\u001b[0m\u001b[37m\u001b[0m \u001b[1m0s\u001b[0m 2ms/step - loss: 16059.7949 - mae: 109.0718 - val_loss: 18321.8438 - val_mae: 116.3786\n",
      "Epoch 40/50\n",
      "\u001b[1m20/20\u001b[0m \u001b[32m━━━━━━━━━━━━━━━━━━━━\u001b[0m\u001b[37m\u001b[0m \u001b[1m0s\u001b[0m 2ms/step - loss: 16414.2578 - mae: 110.7284 - val_loss: 18320.9258 - val_mae: 116.3522\n",
      "Epoch 41/50\n",
      "\u001b[1m20/20\u001b[0m \u001b[32m━━━━━━━━━━━━━━━━━━━━\u001b[0m\u001b[37m\u001b[0m \u001b[1m0s\u001b[0m 2ms/step - loss: 17235.8965 - mae: 113.5652 - val_loss: 18337.2715 - val_mae: 116.4005\n",
      "Epoch 42/50\n",
      "\u001b[1m20/20\u001b[0m \u001b[32m━━━━━━━━━━━━━━━━━━━━\u001b[0m\u001b[37m\u001b[0m \u001b[1m0s\u001b[0m 2ms/step - loss: 16527.2520 - mae: 110.5062 - val_loss: 18286.9180 - val_mae: 116.2622\n",
      "Epoch 43/50\n",
      "\u001b[1m20/20\u001b[0m \u001b[32m━━━━━━━━━━━━━━━━━━━━\u001b[0m\u001b[37m\u001b[0m \u001b[1m0s\u001b[0m 2ms/step - loss: 17293.7090 - mae: 113.4185 - val_loss: 18372.3770 - val_mae: 116.6006\n",
      "Epoch 44/50\n",
      "\u001b[1m20/20\u001b[0m \u001b[32m━━━━━━━━━━━━━━━━━━━━\u001b[0m\u001b[37m\u001b[0m \u001b[1m0s\u001b[0m 2ms/step - loss: 16813.3145 - mae: 111.9331 - val_loss: 18320.7695 - val_mae: 116.3730\n",
      "Epoch 45/50\n",
      "\u001b[1m20/20\u001b[0m \u001b[32m━━━━━━━━━━━━━━━━━━━━\u001b[0m\u001b[37m\u001b[0m \u001b[1m0s\u001b[0m 2ms/step - loss: 16015.1055 - mae: 108.3713 - val_loss: 18321.2227 - val_mae: 116.4249\n",
      "Epoch 46/50\n",
      "\u001b[1m20/20\u001b[0m \u001b[32m━━━━━━━━━━━━━━━━━━━━\u001b[0m\u001b[37m\u001b[0m \u001b[1m0s\u001b[0m 2ms/step - loss: 17363.7598 - mae: 114.1019 - val_loss: 18318.2285 - val_mae: 116.4053\n",
      "Epoch 47/50\n",
      "\u001b[1m20/20\u001b[0m \u001b[32m━━━━━━━━━━━━━━━━━━━━\u001b[0m\u001b[37m\u001b[0m \u001b[1m0s\u001b[0m 2ms/step - loss: 16629.6855 - mae: 111.7680 - val_loss: 18300.2324 - val_mae: 116.3815\n",
      "Epoch 48/50\n",
      "\u001b[1m20/20\u001b[0m \u001b[32m━━━━━━━━━━━━━━━━━━━━\u001b[0m\u001b[37m\u001b[0m \u001b[1m0s\u001b[0m 2ms/step - loss: 17691.3164 - mae: 117.3251 - val_loss: 18266.2441 - val_mae: 116.2578\n",
      "Epoch 49/50\n",
      "\u001b[1m20/20\u001b[0m \u001b[32m━━━━━━━━━━━━━━━━━━━━\u001b[0m\u001b[37m\u001b[0m \u001b[1m0s\u001b[0m 2ms/step - loss: 16921.7598 - mae: 112.9759 - val_loss: 18275.1113 - val_mae: 116.2632\n",
      "Epoch 50/50\n",
      "\u001b[1m20/20\u001b[0m \u001b[32m━━━━━━━━━━━━━━━━━━━━\u001b[0m\u001b[37m\u001b[0m \u001b[1m0s\u001b[0m 2ms/step - loss: 17387.1797 - mae: 114.9508 - val_loss: 18266.3984 - val_mae: 116.3342\n"
     ]
    }
   ],
   "source": [
    "history = model.fit(X_train, y_train, epochs=50, batch_size=32, validation_split=0.2, verbose=1)"
   ]
  },
  {
   "cell_type": "code",
   "execution_count": 88,
   "id": "a4bdae6b-fe22-4226-baf5-0814e67ef60f",
   "metadata": {},
   "outputs": [
    {
     "name": "stdout",
     "output_type": "stream",
     "text": [
      "\u001b[1m7/7\u001b[0m \u001b[32m━━━━━━━━━━━━━━━━━━━━\u001b[0m\u001b[37m\u001b[0m \u001b[1m0s\u001b[0m 2ms/step - loss: 17956.5098 - mae: 115.5323 \n",
      "Test Mean Absolute Error: 115.87\n"
     ]
    }
   ],
   "source": [
    "test_loss, test_mae = model.evaluate(X_test, y_test, verbose=1)\n",
    "print(f\"Test Mean Absolute Error: {test_mae:.2f}\")"
   ]
  },
  {
   "cell_type": "code",
   "execution_count": 90,
   "id": "9b873487-430f-4b86-90f6-6656f6244dbd",
   "metadata": {},
   "outputs": [
    {
     "data": {
      "image/png": "[encoded data removed]",
      "text/plain": [
       "<Figure size 640x480 with 1 Axes>"
      ]
     },
     "metadata": {},
     "output_type": "display_data"
    }
   ],
   "source": [
    "plt.plot(history.history['loss'], label='Training Loss')\n",
    "plt.plot(history.history['val_loss'], label='Validation Loss')\n",
    "plt.xlabel('Epochs')\n",
    "plt.ylabel('Loss')\n",
    "plt.title('Model Training Performance')\n",
    "plt.legend()\n",
    "plt.show()"
   ]
  },
  {
   "cell_type": "code",
   "execution_count": 92,
   "id": "f16f2826-9c31-4ba6-bca1-a082cb5728b5",
   "metadata": {},
   "outputs": [
    {
     "name": "stdout",
     "output_type": "stream",
     "text": [
      "\u001b[1m7/7\u001b[0m \u001b[32m━━━━━━━━━━━━━━━━━━━━\u001b[0m\u001b[37m\u001b[0m \u001b[1m0s\u001b[0m 4ms/step \n"
     ]
    },
    {
     "data": {
      "text/plain": [
       "array([[285.7179 ],\n",
       "       [248.15627],\n",
       "       [261.8166 ],\n",
       "       [209.64333],\n",
       "       [336.1867 ],\n",
       "       [304.52295],\n",
       "       [314.0089 ],\n",
       "       [286.30344],\n",
       "       [288.97012],\n",
       "       [284.25836],\n",
       "       [237.37228],\n",
       "       [270.0985 ],\n",
       "       [276.6339 ],\n",
       "       [238.14085],\n",
       "       [297.9629 ],\n",
       "       [315.12036],\n",
       "       [259.42206],\n",
       "       [307.0556 ],\n",
       "       [301.93927],\n",
       "       [251.09541],\n",
       "       [278.5249 ],\n",
       "       [283.97186],\n",
       "       [279.91666],\n",
       "       [271.95624],\n",
       "       [252.34317],\n",
       "       [245.97256],\n",
       "       [266.68698],\n",
       "       [321.1016 ],\n",
       "       [318.58472],\n",
       "       [265.547  ],\n",
       "       [236.96034],\n",
       "       [311.59088],\n",
       "       [294.9805 ],\n",
       "       [271.0951 ],\n",
       "       [315.776  ],\n",
       "       [290.39966],\n",
       "       [215.98361],\n",
       "       [270.65463],\n",
       "       [282.2624 ],\n",
       "       [250.17256],\n",
       "       [248.06744],\n",
       "       [258.18646],\n",
       "       [246.71623],\n",
       "       [259.6727 ],\n",
       "       [259.80652],\n",
       "       [268.9516 ],\n",
       "       [272.14542],\n",
       "       [257.24185],\n",
       "       [298.96228],\n",
       "       [288.19092],\n",
       "       [220.83472],\n",
       "       [261.13885],\n",
       "       [255.47775],\n",
       "       [217.06845],\n",
       "       [313.23846],\n",
       "       [288.16476],\n",
       "       [254.43936],\n",
       "       [284.6284 ],\n",
       "       [265.84906],\n",
       "       [285.82843],\n",
       "       [253.3715 ],\n",
       "       [282.38678],\n",
       "       [277.7282 ],\n",
       "       [323.26242],\n",
       "       [306.59753],\n",
       "       [276.6297 ],\n",
       "       [315.65442],\n",
       "       [249.05013],\n",
       "       [241.9803 ],\n",
       "       [233.75403],\n",
       "       [315.7121 ],\n",
       "       [268.01907],\n",
       "       [286.88477],\n",
       "       [261.72772],\n",
       "       [258.85132],\n",
       "       [281.2834 ],\n",
       "       [231.21768],\n",
       "       [218.04591],\n",
       "       [276.24463],\n",
       "       [283.49182],\n",
       "       [239.67038],\n",
       "       [294.63684],\n",
       "       [243.77571],\n",
       "       [293.8252 ],\n",
       "       [257.7226 ],\n",
       "       [249.5439 ],\n",
       "       [291.22498],\n",
       "       [308.506  ],\n",
       "       [220.8719 ],\n",
       "       [292.89978],\n",
       "       [327.0492 ],\n",
       "       [255.98853],\n",
       "       [289.47607],\n",
       "       [241.91809],\n",
       "       [232.91989],\n",
       "       [258.70154],\n",
       "       [273.39676],\n",
       "       [279.1946 ],\n",
       "       [201.58884],\n",
       "       [255.09627],\n",
       "       [285.12286],\n",
       "       [253.83804],\n",
       "       [267.44244],\n",
       "       [264.44055],\n",
       "       [217.99973],\n",
       "       [283.8056 ],\n",
       "       [320.96198],\n",
       "       [301.59253],\n",
       "       [286.72122],\n",
       "       [267.08612],\n",
       "       [337.799  ],\n",
       "       [256.28702],\n",
       "       [296.23553],\n",
       "       [217.66199],\n",
       "       [267.25632],\n",
       "       [260.67297],\n",
       "       [237.29497],\n",
       "       [292.76355],\n",
       "       [254.21376],\n",
       "       [332.12292],\n",
       "       [242.3414 ],\n",
       "       [281.00928],\n",
       "       [203.56389],\n",
       "       [264.16077],\n",
       "       [294.78845],\n",
       "       [248.23386],\n",
       "       [229.3315 ],\n",
       "       [276.9354 ],\n",
       "       [252.11758],\n",
       "       [277.66986],\n",
       "       [310.86346],\n",
       "       [266.23218],\n",
       "       [309.8748 ],\n",
       "       [283.69504],\n",
       "       [267.32147],\n",
       "       [268.31818],\n",
       "       [272.92126],\n",
       "       [262.9547 ],\n",
       "       [243.92622],\n",
       "       [281.87604],\n",
       "       [287.38065],\n",
       "       [315.3958 ],\n",
       "       [275.33948],\n",
       "       [255.08493],\n",
       "       [223.5274 ],\n",
       "       [260.18774],\n",
       "       [274.1808 ],\n",
       "       [300.72656],\n",
       "       [229.18759],\n",
       "       [302.88184],\n",
       "       [216.99158],\n",
       "       [264.81482],\n",
       "       [278.28516],\n",
       "       [305.60156],\n",
       "       [234.82062],\n",
       "       [250.83682],\n",
       "       [243.81792],\n",
       "       [231.1907 ],\n",
       "       [298.9984 ],\n",
       "       [301.44272],\n",
       "       [219.51874],\n",
       "       [256.50702],\n",
       "       [261.48953],\n",
       "       [275.97955],\n",
       "       [261.1947 ],\n",
       "       [301.94116],\n",
       "       [264.32758],\n",
       "       [301.46173],\n",
       "       [291.94308],\n",
       "       [233.89493],\n",
       "       [245.21587],\n",
       "       [220.88278],\n",
       "       [270.85898],\n",
       "       [266.4605 ],\n",
       "       [244.16106],\n",
       "       [225.00961],\n",
       "       [281.9875 ],\n",
       "       [258.27698],\n",
       "       [260.55432],\n",
       "       [258.1799 ],\n",
       "       [205.33435],\n",
       "       [246.8787 ],\n",
       "       [288.0915 ],\n",
       "       [264.22546],\n",
       "       [213.2608 ],\n",
       "       [220.06271],\n",
       "       [323.00952],\n",
       "       [267.84058],\n",
       "       [283.7099 ],\n",
       "       [254.7303 ],\n",
       "       [285.5452 ],\n",
       "       [278.38092],\n",
       "       [244.27132],\n",
       "       [256.90808],\n",
       "       [297.72156],\n",
       "       [289.50427],\n",
       "       [276.68384],\n",
       "       [254.19955],\n",
       "       [263.24408],\n",
       "       [302.5529 ]], dtype=float32)"
      ]
     },
     "execution_count": 92,
     "metadata": {},
     "output_type": "execute_result"
    }
   ],
   "source": [
    "predictions = model.predict(X_test)\n",
    "predictions"
   ]
  },
  {
   "cell_type": "code",
   "execution_count": 94,
   "id": "e9a3ac50-7e87-479e-bf8f-342e47c76cb6",
   "metadata": {},
   "outputs": [
    {
     "data": {
      "image/png": "[encoded data removed]",
      "text/plain": [
       "<Figure size 640x480 with 1 Axes>"
      ]
     },
     "metadata": {},
     "output_type": "display_data"
    }
   ],
   "source": [
    "plt.scatter(y_test, predictions)\n",
    "plt.xlabel('True Energy Consumption')\n",
    "plt.ylabel('Predicted Energy Consumption')\n",
    "plt.title('Predictions vs True Values')\n",
    "plt.show()"
   ]
  },
  {
   "cell_type": "code",
   "execution_count": null,
   "id": "db4efdd9-1b07-4b87-ba6c-ecb3cf041530",
   "metadata": {},
   "outputs": [],
   "source": [
    " bv"
   ]
  }
 ],
 "metadata": {
  "kernelspec": {
   "display_name": "Python 3 (ipykernel)",
   "language": "python",
   "name": "python3"
  },
  "language_info": {
   "codemirror_mode": {
    "name": "ipython",
    "version": 3
   },
   "file_extension": ".py",
   "mimetype": "text/x-python",
   "name": "python",
   "nbconvert_exporter": "python",
   "pygments_lexer": "ipython3",
   "version": "3.12.4"
  }
 },
 "nbformat": 4,
 "nbformat_minor": 5
}
