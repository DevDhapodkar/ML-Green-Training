{
 "cells": [
  {
   "cell_type": "code",
   "execution_count": 1,
   "id": "bdbeeb5d-58d7-4b1f-b8cd-f1aac8e1c670",
   "metadata": {},
   "outputs": [
    {
     "name": "stdout",
     "output_type": "stream",
     "text": [
      "pygame 2.6.1 (SDL 2.28.4, Python 3.12.4)\n",
      "Hello from the pygame community. https://www.pygame.org/contribute.html\n"
     ]
    },
    {
     "name": "stderr",
     "output_type": "stream",
     "text": [
      "2025-01-18 11:24:19.302 python[41920:1691526] +[IMKClient subclass]: chose IMKClient_Legacy\n",
      "2025-01-18 11:24:19.302 python[41920:1691526] +[IMKInputSession subclass]: chose IMKInputSession_Legacy\n"
     ]
    },
    {
     "ename": "SystemExit",
     "evalue": "",
     "output_type": "error",
     "traceback": [
      "An exception has occurred, use %tb to see the full traceback.\n",
      "\u001b[0;31mSystemExit\u001b[0m\n"
     ]
    },
    {
     "name": "stderr",
     "output_type": "stream",
     "text": [
      "/opt/anaconda3/lib/python3.12/site-packages/IPython/core/interactiveshell.py:3585: UserWarning: To exit: use 'exit', 'quit', or Ctrl-D.\n",
      "  warn(\"To exit: use 'exit', 'quit', or Ctrl-D.\", stacklevel=1)\n"
     ]
    }
   ],
   "source": [
    "import pygame\n",
    "import sys\n",
    "import random\n",
    "\n",
    "# Initialize Pygame\n",
    "pygame.init()\n",
    "\n",
    "# Screen dimensions\n",
    "WIDTH, HEIGHT = 800, 600\n",
    "\n",
    "# Colors\n",
    "WHITE = (255, 255, 255)\n",
    "BLACK = (0, 0, 0)\n",
    "BOTTLE_GREEN = (255, 215, 0)\n",
    "GOLD = (0, 102, 51)\n",
    "GRAY = (169, 169, 169)\n",
    "DARK_GRAY = (105, 105, 105)\n",
    "SMOKE_COLOR = (200, 200, 200)\n",
    "\n",
    "# Create the screen\n",
    "screen = pygame.display.set_mode((WIDTH, HEIGHT))\n",
    "pygame.display.set_caption(\"Chopper Bike Animation\")\n",
    "\n",
    "# Clock for controlling the frame rate\n",
    "clock = pygame.time.Clock()\n",
    "\n",
    "# Chopper bike properties\n",
    "bike_x = 100\n",
    "bike_y = HEIGHT - 100\n",
    "bike_velocity_x = 3\n",
    "bike_wheel_radius = 25\n",
    "frame_count = 0\n",
    "\n",
    "# Smoke particles\n",
    "smoke_particles = []\n",
    "\n",
    "# Draw the chopper bike\n",
    "def draw_bike(x, y):\n",
    "    # Draw wheels\n",
    "    pygame.draw.circle(screen, BLACK, (x, y), bike_wheel_radius)  # Rear wheel\n",
    "    pygame.draw.circle(screen, BLACK, (x + 100, y), bike_wheel_radius)  # Front wheel\n",
    "\n",
    "    # Draw bike frame\n",
    "    pygame.draw.line(screen, BOTTLE_GREEN, (x, y), (x + 50, y - 50), 8)  # Rear to body\n",
    "    pygame.draw.line(screen, BOTTLE_GREEN, (x + 50, y - 50), (x + 110, y - 50), 8)  # Horizontal body\n",
    "    pygame.draw.line(screen, BOTTLE_GREEN, (x + 110, y - 50), (x + 100, y), 8)  # Front to body\n",
    "\n",
    "    # Draw handlebar\n",
    "    pygame.draw.line(screen, GOLD, (x + 110, y - 50), (x + 130, y - 100), 5)  # Handlebar stem\n",
    "    pygame.draw.line(screen, GOLD, (x + 130, y - 100), (x + 150, y - 90), 5)  # Handlebar\n",
    "\n",
    "    # Draw exhaust pipe\n",
    "    pygame.draw.line(screen, DARK_GRAY, (x, y - 10), (x - 30, y - 30), 6)\n",
    "\n",
    "    # Draw seat\n",
    "    pygame.draw.rect(screen, GOLD, (x + 40, y - 60, 40, 15))\n",
    "\n",
    "# Draw smoke particles\n",
    "def draw_smoke():\n",
    "    for particle in smoke_particles:\n",
    "        pygame.draw.circle(screen, SMOKE_COLOR, (particle[0], particle[1]), particle[2])\n",
    "\n",
    "# Update smoke particles\n",
    "def update_smoke():\n",
    "    for particle in smoke_particles:\n",
    "        particle[1] -= 1  # Move upward\n",
    "        particle[0] += random.choice([-1, 0, 1])  # Slight horizontal drift\n",
    "        particle[2] -= 0.1  # Shrink size\n",
    "\n",
    "    # Remove particles that are too small\n",
    "    smoke_particles[:] = [p for p in smoke_particles if p[2] > 0]\n",
    "\n",
    "# Main loop\n",
    "running = True\n",
    "while running:\n",
    "    # Event handling\n",
    "    for event in pygame.event.get():\n",
    "        if event.type == pygame.QUIT:\n",
    "            running = False\n",
    "\n",
    "    # Update bike position\n",
    "    bike_x += bike_velocity_x\n",
    "\n",
    "    # Wrap around the screen\n",
    "    if bike_x > WIDTH:\n",
    "        bike_x = -150\n",
    "\n",
    "    # Add new smoke particle\n",
    "    if frame_count % 5 == 0:  # Add a particle every 5 frames\n",
    "        smoke_particles.append([bike_x - 30, bike_y - 30, random.randint(5, 10)])\n",
    "\n",
    "    # Update smoke particles\n",
    "    update_smoke()\n",
    "\n",
    "    # Clear the screen\n",
    "    screen.fill(WHITE)\n",
    "\n",
    "    # Draw the chopper bike\n",
    "    draw_bike(bike_x, bike_y)\n",
    "\n",
    "    # Draw the smoke\n",
    "    draw_smoke()\n",
    "\n",
    "    # Update the display\n",
    "    pygame.display.flip()\n",
    "\n",
    "    # Cap the frame rate\n",
    "    clock.tick(60)\n",
    "\n",
    "    # Increment frame count\n",
    "    frame_count += 1\n",
    "\n",
    "# Quit Pygame\n",
    "pygame.quit()\n",
    "sys.exit()\n"
   ]
  },
  {
   "cell_type": "code",
   "execution_count": null,
   "id": "5e2ec411-4c66-4206-8281-d4d510a23f16",
   "metadata": {},
   "outputs": [],
   "source": []
  },
  {
   "cell_type": "code",
   "execution_count": null,
   "id": "c8046ee7-3d1b-4a34-94ef-77759e8d9f8f",
   "metadata": {},
   "outputs": [],
   "source": []
  }
 ],
 "metadata": {
  "kernelspec": {
   "display_name": "Python 3 (ipykernel)",
   "language": "python",
   "name": "python3"
  },
  "language_info": {
   "codemirror_mode": {
    "name": "ipython",
    "version": 3
   },
   "file_extension": ".py",
   "mimetype": "text/x-python",
   "name": "python",
   "nbconvert_exporter": "python",
   "pygments_lexer": "ipython3",
   "version": "3.12.4"
  }
 },
 "nbformat": 4,
 "nbformat_minor": 5
}
